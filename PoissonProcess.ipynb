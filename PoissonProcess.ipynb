{
 "cells": [
  {
   "cell_type": "markdown",
   "metadata": {},
   "source": [
    "# Poissson Process\n",
    "$$\n",
    "P\\{ N(t-t_{0}) = n \\} = \\frac{(\\lambda t)^{n}}{n!}e^{-\\lambda t}\n",
    "$$\n",
    "\n",
    "\n",
    "- The interval time between two event happening is obey to the exponent distribution\n",
    "\n",
    "$$\n",
    "f_{X_{i}}(x) = \\begin{cases}\\lambda e^{-\\lambda x}, & x > 0 \\\\ 0, & x\\le 0\\end{cases}\n",
    "$$"
   ]
  },
  {
   "cell_type": "code",
   "execution_count": 476,
   "metadata": {},
   "outputs": [
    {
     "data": {
      "text/plain": [
       "generate_i_ex (generic function with 1 method)"
      ]
     },
     "metadata": {},
     "output_type": "display_data"
    }
   ],
   "source": [
    "it2idx(t::Union{SubArray{Float64},Vector{Float64}, Matrix{Float64}}; dt=0.01) = trunc.(Int64, t ./ dt) \n",
    "function generate_i_ex(i_num, λ; T=200, dt=0.01, i_interval=0.1)\n",
    "    t = 0:dt:T |> collect\n",
    "    intervals = -log.(1 .- rand(i_num, trunc(Int64,T / (1/λ) * 1.2) + 100  )) ./ λ\n",
    "    i_t = cumsum(intervals, dims=2)\n",
    "    N::Int64 = i_interval/dt\n",
    "    start_point = [it2idx(row)[it2idx(row) .< length(t)] for row in eachrow(i_t)]\n",
    "    iex_time = vcat.(start_point,[start_point .+ i .* ones.(Int64,length.(start_point)) for i in 1:N-1]...)\n",
    "    i_exs = [zeros(length(t)) for i in 1:i_num]\n",
    "    idx = Array{Vector{Int64}}(undef, i_num)\n",
    "\n",
    "    for i in 1:length(i_exs)\n",
    "        idx[i] =iex_time[i][0 .< iex_time[i] .<= length(t)] \n",
    "        i_exs[i][idx[i]] .= 1\n",
    "    end\n",
    "    return i_exs\n",
    "end\n"
   ]
  },
  {
   "cell_type": "code",
   "execution_count": 473,
   "metadata": {},
   "outputs": [],
   "source": [
    "iex = Vector{Vector{Vector{Float64}}}(undef, 100)\n",
    "\n",
    "Threads.@threads for i in 1:100\n",
    "    iex[i] = generate_i_ex(10, 1)\n",
    "end"
   ]
  },
  {
   "cell_type": "code",
   "execution_count": 474,
   "metadata": {},
   "outputs": [
    {
     "data": {
      "text/plain": [
       "1000×20001 adjoint(::Matrix{Float64}) with eltype Float64:\n",
       " 0.0  0.0  0.0  0.0  0.0  0.0  0.0  0.0  …  0.0  0.0  0.0  0.0  0.0  0.0  0.0\n",
       " 0.0  0.0  0.0  0.0  0.0  0.0  0.0  0.0     0.0  0.0  0.0  0.0  0.0  0.0  0.0\n",
       " 0.0  0.0  0.0  0.0  0.0  0.0  0.0  0.0     0.0  0.0  0.0  0.0  0.0  0.0  0.0\n",
       " 0.0  0.0  0.0  0.0  0.0  0.0  0.0  0.0     0.0  0.0  0.0  0.0  0.0  0.0  0.0\n",
       " 0.0  0.0  0.0  0.0  0.0  0.0  0.0  0.0     0.0  0.0  0.0  1.0  1.0  1.0  1.0\n",
       " 0.0  0.0  0.0  0.0  0.0  0.0  0.0  0.0  …  0.0  0.0  0.0  0.0  0.0  0.0  0.0\n",
       " 0.0  0.0  0.0  0.0  0.0  0.0  0.0  0.0     0.0  0.0  0.0  0.0  0.0  0.0  0.0\n",
       " 0.0  0.0  0.0  0.0  0.0  0.0  0.0  0.0     0.0  0.0  0.0  0.0  0.0  0.0  0.0\n",
       " 0.0  0.0  0.0  0.0  0.0  0.0  0.0  0.0     1.0  1.0  1.0  0.0  0.0  0.0  0.0\n",
       " 0.0  0.0  0.0  0.0  0.0  0.0  0.0  0.0     0.0  0.0  0.0  0.0  0.0  0.0  0.0\n",
       " ⋮                        ⋮              ⋱       ⋮                        ⋮\n",
       " 0.0  0.0  0.0  0.0  0.0  0.0  0.0  0.0     0.0  0.0  0.0  0.0  0.0  0.0  0.0\n",
       " 0.0  0.0  0.0  0.0  0.0  0.0  0.0  0.0     0.0  0.0  0.0  0.0  0.0  0.0  0.0\n",
       " 0.0  0.0  0.0  0.0  0.0  0.0  0.0  0.0     0.0  0.0  0.0  0.0  0.0  0.0  0.0\n",
       " 0.0  0.0  0.0  0.0  0.0  0.0  0.0  0.0     0.0  0.0  0.0  0.0  0.0  0.0  0.0\n",
       " 0.0  0.0  0.0  0.0  0.0  0.0  0.0  0.0  …  0.0  0.0  0.0  0.0  0.0  0.0  0.0\n",
       " 0.0  0.0  0.0  0.0  0.0  0.0  0.0  0.0     0.0  0.0  0.0  0.0  0.0  0.0  0.0\n",
       " 0.0  0.0  0.0  0.0  0.0  0.0  0.0  0.0     0.0  0.0  0.0  0.0  0.0  0.0  0.0\n",
       " 0.0  0.0  0.0  1.0  1.0  1.0  1.0  1.0     1.0  1.0  1.0  1.0  1.0  1.0  0.0\n",
       " 0.0  0.0  0.0  0.0  0.0  0.0  0.0  0.0     0.0  0.0  0.0  0.0  0.0  0.0  0.0"
      ]
     },
     "metadata": {},
     "output_type": "display_data"
    }
   ],
   "source": [
    "hcat([hcat(iex[i]...) for i in 1:length(iex)]...)'"
   ]
  },
  {
   "cell_type": "code",
   "execution_count": 422,
   "metadata": {},
   "outputs": [
    {
     "data": {
      "text/plain": [
       "10-element Vector{Int64}:\n",
       " 1\n",
       " 1\n",
       " 3\n",
       " 3\n",
       " 2\n",
       " 5\n",
       " 4\n",
       " 6\n",
       " 7\n",
       " 8"
      ]
     },
     "metadata": {},
     "output_type": "display_data"
    }
   ],
   "source": [
    "a = Vector{Int64}(undef,10)\n",
    "Threads.@threads for i in 1:10\n",
    "    a[i] = Threads.threadid()\n",
    "end\n",
    "\n",
    "@show a"
   ]
  },
  {
   "cell_type": "code",
   "execution_count": 418,
   "metadata": {},
   "outputs": [
    {
     "ename": "CompositeException",
     "evalue": "TaskFailedException\n\n    nested task error: MethodError: no method matching firstindex(::Base.Iterators.Enumerate{Vector{Vector{Float64}}})\n    \n    Closest candidates are:\n      firstindex(::Any, !Matched::Any)\n       @ Base abstractarray.jl:443\n      firstindex(!Matched::Union{Tables.AbstractColumns, Tables.AbstractRow})\n       @ Tables ~/.julia/packages/Tables/NSGZI/src/Tables.jl:182\n      firstindex(!Matched::Union{ArrayInterface.BidiagonalIndex, ArrayInterface.TridiagonalIndex})\n       @ ArrayInterface ~/.julia/packages/ArrayInterface/KwW6K/src/ArrayInterface.jl:869\n      ...\n    \n    Stacktrace:\n     [1] #712#threadsfor_fun#530\n       @ ./threadingconstructs.jl:185 [inlined]\n     [2] #712#threadsfor_fun\n       @ ./threadingconstructs.jl:167 [inlined]\n     [3] (::Base.Threads.var\"#1#2\"{var\"#712#threadsfor_fun#534\"{var\"#712#threadsfor_fun#530#535\"{Vector{Vector{Int64}}, Vector{Vector{Int64}}, Vector{Float64}, Base.Iterators.Enumerate{Vector{Vector{Float64}}}}}, Int64})()\n       @ Base.Threads ./threadingconstructs.jl:139\n\n...and 7 more exceptions.\n",
     "output_type": "error",
     "traceback": [
      "TaskFailedException\n",
      "\n",
      "    nested task error: MethodError: no method matching firstindex(::Base.Iterators.Enumerate{Vector{Vector{Float64}}})\n",
      "    \n",
      "    Closest candidates are:\n",
      "      firstindex(::Any, !Matched::Any)\n",
      "       @ Base abstractarray.jl:443\n",
      "      firstindex(!Matched::Union{Tables.AbstractColumns, Tables.AbstractRow})\n",
      "       @ Tables ~/.julia/packages/Tables/NSGZI/src/Tables.jl:182\n",
      "      firstindex(!Matched::Union{ArrayInterface.BidiagonalIndex, ArrayInterface.TridiagonalIndex})\n",
      "       @ ArrayInterface ~/.julia/packages/ArrayInterface/KwW6K/src/ArrayInterface.jl:869\n",
      "      ...\n",
      "    \n",
      "    Stacktrace:\n",
      "     [1] #712#threadsfor_fun#530\n",
      "       @ ./threadingconstructs.jl:185 [inlined]\n",
      "     [2] #712#threadsfor_fun\n",
      "       @ ./threadingconstructs.jl:167 [inlined]\n",
      "     [3] (::Base.Threads.var\"#1#2\"{var\"#712#threadsfor_fun#534\"{var\"#712#threadsfor_fun#530#535\"{Vector{Vector{Int64}}, Vector{Vector{Int64}}, Vector{Float64}, Base.Iterators.Enumerate{Vector{Vector{Float64}}}}}, Int64})()\n",
      "       @ Base.Threads ./threadingconstructs.jl:139\n",
      "\n",
      "...and 7 more exceptions.\n",
      "\n",
      "\n",
      "Stacktrace:\n",
      " [1] threading_run(fun::var\"#712#threadsfor_fun#534\"{var\"#712#threadsfor_fun#530#535\"{Vector{Vector{Int64}}, Vector{Vector{Int64}}, Vector{Float64}, Base.Iterators.Enumerate{Vector{Vector{Float64}}}}}, static::Bool)\n",
      "   @ Base.Threads ./threadingconstructs.jl:157\n",
      " [2] macro expansion\n",
      "   @ ./threadingconstructs.jl:205 [inlined]\n",
      " [3] generate_i_ex(i_num::Int64, λ::Int64; T::Int64, dt::Float64, i_interval::Float64)\n",
      "   @ Main ~/Documents/code/Homework/modeling_final/PoissonProcess.ipynb:15\n",
      " [4] generate_i_ex(i_num::Int64, λ::Int64)\n",
      "   @ Main ~/Documents/code/Homework/modeling_final/PoissonProcess.ipynb:2\n",
      " [5] top-level scope\n",
      "   @ ~/Documents/code/Homework/modeling_final/PoissonProcess.ipynb:1"
     ]
    }
   ],
   "source": [
    "generate_i_ex(100,100)"
   ]
  },
  {
   "cell_type": "code",
   "execution_count": 341,
   "metadata": {},
   "outputs": [
    {
     "data": {
      "image/png": "[encoded data removed]",
      "text/plain": [
       "Scene (800px, 600px):\n",
       "  18 Plots:\n",
       "    ├ Combined{Makie.poly, Tuple{Vector{Vector{Point{2, Float32}}}}}\n",
       "    ├ LineSegments{Tuple{Vector{Point{2, Float32}}}}\n",
       "    ├ LineSegments{Tuple{Vector{Point{2, Float32}}}}\n",
       "    ├ LineSegments{Tuple{Vector{Point{2, Float32}}}}\n",
       "    ├ LineSegments{Tuple{Vector{Point{2, Float32}}}}\n",
       "    ├ LineSegments{Tuple{Vector{Point{2, Float32}}}}\n",
       "    ├ LineSegments{Tuple{Vector{Point{2, Float32}}}}\n",
       "    ├ MakieCore.Text{Tuple{String}}\n",
       "    ├ Lines{Tuple{Vector{Point{2, Float32}}}}\n",
       "    ├ MakieCore.Text{Tuple{Vector{Tuple{AbstractString, Point{2, Float32}}}}}\n",
       "    ├ LineSegments{Tuple{Vector{Point{2, Float32}}}}\n",
       "    ├ LineSegments{Tuple{Vector{Point{2, Float32}}}}\n",
       "    ├ MakieCore.Text{Tuple{String}}\n",
       "    ├ Lines{Tuple{Vector{Point{2, Float32}}}}\n",
       "    ├ MakieCore.Text{Tuple{Vector{Tuple{AbstractString, Point{2, Float32}}}}}\n",
       "    ├ Lines{Tuple{Vector{Point{2, Float32}}}}\n",
       "    ├ Lines{Tuple{Vector{Point{2, Float32}}}}\n",
       "    └ MakieCore.Text{Tuple{String}}\n",
       "  1 Child Scene:\n",
       "    └ Scene (740px, 547px)"
      ]
     },
     "metadata": {},
     "output_type": "display_data"
    }
   ],
   "source": [
    "fig = Figure()\n",
    "ax = Axis(fig[1,1])\n",
    "\n",
    "lines!(ax, t, IEs[1])\n",
    "\n",
    "hidedecorations!(ax, ticklabels=false)\n",
    "fig"
   ]
  },
  {
   "cell_type": "code",
   "execution_count": null,
   "metadata": {},
   "outputs": [],
   "source": []
  },
  {
   "cell_type": "code",
   "execution_count": 169,
   "metadata": {},
   "outputs": [
    {
     "data": {
      "text/plain": [
       "10×124 Matrix{Int64}:\n",
       " 1486  1676  4378  6127  6262   8428  …  102135  102244  105494  106061\n",
       "  308   641  1255  1578  3616   4179     111514  112672  115580  119884\n",
       " 1038  1458  4340  5344  5594   7254     126754  127185  130457  130524\n",
       "  456   503  1425  2033  2085   2190     110995  111398  112078  114738\n",
       "  511  1413  4729  5022  5882   6209     113683  113744  117315  118989\n",
       "  572   938   964  1018  1434   1831  …  112083  112726  112788  113174\n",
       "  678  2879  7717  8229  9688  10469     121016  121242  121250  122653\n",
       "  306   708  3264  4160  4198   4707     129881  130315  135160  135733\n",
       "  321  1277  1465  1582  1999   2022     111565  115838  117169  117262\n",
       "   71  1464  2314  2756  3074   3598     117516  121006  121020  121173"
      ]
     },
     "metadata": {},
     "output_type": "display_data"
    }
   ],
   "source": [
    "dt = 0.01\n",
    "T = 200\n",
    "t = 0:dt:T |> collect\n",
    "t_mat = repeat(t', 10,1)\n",
    "generate_i_ex(10, 0.1)"
   ]
  },
  {
   "cell_type": "code",
   "execution_count": 114,
   "metadata": {},
   "outputs": [
    {
     "data": {
      "text/plain": [
       "100×24000 Matrix{Float64}:\n",
       " 0.00197755  0.0295908   0.0298591  …  238.117  238.123  238.123  238.128\n",
       " 0.00911169  0.0132337   0.0244585     239.358  239.364  239.38   239.391\n",
       " 0.0020313   0.0157472   0.0185109     238.574  238.598  238.598  238.604\n",
       " 0.00270734  0.0191711   0.0611448     239.977  239.979  239.981  240.015\n",
       " 0.00268879  0.0114135   0.0124894     238.448  238.469  238.473  238.479\n",
       " 0.0164093   0.0300003   0.0408525  …  239.878  239.89   239.899  239.901\n",
       " 0.0196707   0.0371894   0.0409031     240.354  240.361  240.368  240.371\n",
       " 0.0365263   0.0367627   0.0816583     239.667  239.693  239.696  239.698\n",
       " 0.0126255   0.0230815   0.0474979     239.729  239.755  239.771  239.801\n",
       " 0.00440474  0.0316057   0.0355709     239.08   239.083  239.083  239.086\n",
       " ⋮                                  ⋱                             \n",
       " 0.00722059  0.0131904   0.0216306     239.605  239.61   239.615  239.627\n",
       " 0.00860974  0.0275309   0.030909      241.067  241.07   241.076  241.083\n",
       " 0.00526399  0.00992256  0.0175065     238.611  238.618  238.624  238.629\n",
       " 0.0296686   0.0397794   0.0545159     242.507  242.52   242.526  242.535\n",
       " 0.00347959  0.00392566  0.011616   …  239.824  239.84   239.865  239.873\n",
       " 0.00442744  0.00799247  0.0244926     241.5    241.504  241.524  241.536\n",
       " 5.87047e-5  0.010012    0.0277352     240.701  240.727  240.729  240.73\n",
       " 0.00337733  0.0142755   0.0214216     240.187  240.188  240.192  240.194\n",
       " 0.0164534   0.0186014   0.0187156     239.872  239.898  239.9    239.922"
      ]
     },
     "metadata": {},
     "output_type": "display_data"
    }
   ],
   "source": [
    "dt = 0.01; T = 200\n",
    "rr = 100\n",
    "\n",
    "\n",
    "intervals = -log.(1 .- rand(100,trunc(Int64,T / (1/rr) * 1.2)  )) ./ rr\n",
    "intervals = cumsum(intervals, dims=2)\n"
   ]
  },
  {
   "cell_type": "code",
   "execution_count": 115,
   "metadata": {},
   "outputs": [
    {
     "data": {
      "text/plain": [
       "237.87039491338896"
      ]
     },
     "metadata": {},
     "output_type": "display_data"
    }
   ],
   "source": [
    "minimum(maximum(intervals, dims=2))"
   ]
  },
  {
   "cell_type": "code",
   "execution_count": 112,
   "metadata": {},
   "outputs": [
    {
     "ename": "DimensionMismatch",
     "evalue": "DimensionMismatch: dimensions must match: a has dims (Base.OneTo(100), Base.OneTo(24000)), b has dims (Base.OneTo(100), Base.OneTo(10000)), mismatch at 2",
     "output_type": "error",
     "traceback": [
      "DimensionMismatch: dimensions must match: a has dims (Base.OneTo(100), Base.OneTo(24000)), b has dims (Base.OneTo(100), Base.OneTo(10000)), mismatch at 2\n",
      "\n",
      "Stacktrace:\n",
      "  [1] promote_shape\n",
      "    @ ./indices.jl:178 [inlined]\n",
      "  [2] promote_shape(a::Matrix{Int64}, b::Matrix{Int64})\n",
      "    @ Base ./indices.jl:169\n",
      "  [3] +(A::Matrix{Int64}, Bs::Matrix{Int64})\n",
      "    @ Base ./arraymath.jl:14\n",
      "  [4] _broadcast_getindex_evalf\n",
      "    @ ./broadcast.jl:683 [inlined]\n",
      "  [5] _broadcast_getindex\n",
      "    @ ./broadcast.jl:656 [inlined]\n",
      "  [6] getindex\n",
      "    @ ./broadcast.jl:610 [inlined]\n",
      "  [7] macro expansion\n",
      "    @ ./broadcast.jl:974 [inlined]\n",
      "  [8] macro expansion\n",
      "    @ ./simdloop.jl:77 [inlined]\n",
      "  [9] copyto!\n",
      "    @ ./broadcast.jl:973 [inlined]\n",
      " [10] copyto!\n",
      "    @ ./broadcast.jl:926 [inlined]\n",
      " [11] copy(bc::Base.Broadcast.Broadcasted{Base.Broadcast.DefaultArrayStyle{1}, Tuple{Base.OneTo{Int64}}, typeof(+), Tuple{Vector{Matrix{Int64}}, Vector{Matrix{Int64}}}})\n",
      "    @ Base.Broadcast ./broadcast.jl:898\n",
      " [12] materialize(bc::Base.Broadcast.Broadcasted{Base.Broadcast.DefaultArrayStyle{1}, Nothing, typeof(+), Tuple{Vector{Matrix{Int64}}, Vector{Matrix{Int64}}}})\n",
      "    @ Base.Broadcast ./broadcast.jl:873\n",
      " [13] top-level scope\n",
      "    @ ~/Documents/code/Homework/modeling_final/PoissonProcess.ipynb:1"
     ]
    }
   ],
   "source": [
    "x =[trunc.(Int64,floor.(intervals ./ 0.01)) for i in 1:10] .+ [i .* ones(Int64,100,10000)  for i in 1:10]"
   ]
  },
  {
   "cell_type": "code",
   "execution_count": 92,
   "metadata": {},
   "outputs": [
    {
     "data": {
      "text/plain": [
       "1000×10000 Matrix{Int64}:\n",
       "  4   4   5   11   30   34   38   48   76  …  100244  100262  100264  100266\n",
       "  1   2  15   32   40   44   46   56   76     100471  100471  100485  100486\n",
       " 27  30  37   48   50   62   62   73   73      98447   98462   98479   98482\n",
       " 21  26  27   30   35   84   87  105  107     100166  100199  100246  100246\n",
       " 15  32  39   87  105  107  129  148  167     100616  100621  100628  100629\n",
       "  5  14  14   17   39   47   57   59   84  …   99957   99963   99966   99975\n",
       " 14  36  47   49   55   64   82   96   99      99470   99495   99502   99510\n",
       " 16  16  34   34   52   54   94  100  101      98936   98947   98974   99001\n",
       "  6  10  34   67   72   77   79   99  103     100238  100242  100251  100254\n",
       " 10  14  15   16   20   35   62   65  114      99068   99068   99075   99076\n",
       "  ⋮                      ⋮                 ⋱                          \n",
       " 56  58  90   99  104  109  118  125  135     100119  100121  100141  100152\n",
       " 25  60  95  105  119  123  126  137  143      99744   99745   99746   99749\n",
       " 11  14  23   39   46   76   78   90   96      99825   99826   99829   99830\n",
       " 21  37  45   47   91  124  128  140  144      98316   98320   98321   98348\n",
       " 17  25  28   44   73   74   90  102  105  …  100597  100601  100615  100621\n",
       " 10  13  21   22   48   54   56   57   62     100062  100086  100092  100109\n",
       " 29  57  67   75   81  101  119  140  151      99494   99514   99519   99520\n",
       " 41  54  57   75   81   88   98  103  155      99177   99178   99187   99228\n",
       " 12  19  20   29   33   41   58   71   72     100399  100408  100410  100413"
      ]
     },
     "metadata": {},
     "output_type": "display_data"
    }
   ],
   "source": [
    "vcat(x...)"
   ]
  },
  {
   "cell_type": "code",
   "execution_count": 93,
   "metadata": {},
   "outputs": [],
   "source": [
    "t = 0:0.01:200 |> collect;"
   ]
  },
  {
   "cell_type": "code",
   "execution_count": 94,
   "metadata": {},
   "outputs": [
    {
     "data": {
      "text/plain": [
       "20001"
      ]
     },
     "metadata": {},
     "output_type": "display_data"
    }
   ],
   "source": [
    "length(t)"
   ]
  },
  {
   "cell_type": "code",
   "execution_count": 95,
   "metadata": {},
   "outputs": [
    {
     "data": {
      "text/plain": [
       "20019-element view(::Vector{Float64}, [4, 5, 6, 7, 8, 9, 10, 11, 12, 13  …  19999, 19992, 19993, 19994, 19995, 19996, 19997, 19998, 19999, 20000]) with eltype Float64:\n",
       " 1.0\n",
       " 1.0\n",
       " 1.0\n",
       " 1.0\n",
       " 1.0\n",
       " 1.0\n",
       " 1.0\n",
       " 1.0\n",
       " 1.0\n",
       " 1.0\n",
       " ⋮\n",
       " 1.0\n",
       " 1.0\n",
       " 1.0\n",
       " 1.0\n",
       " 1.0\n",
       " 1.0\n",
       " 1.0\n",
       " 1.0\n",
       " 1.0"
      ]
     },
     "metadata": {},
     "output_type": "display_data"
    }
   ],
   "source": [
    "Ie = zeros(length(t))\n",
    "Ie[vcat(vcat(x...)[[1:100:size(vcat(x...))[1]...],:])[vcat(vcat(x...)[[1:100:size(vcat(x...))[1]...],:]) .< length(t)]] .= 1"
   ]
  },
  {
   "cell_type": "code",
   "execution_count": 96,
   "metadata": {},
   "outputs": [],
   "source": [
    "using Makie, CairoMakie"
   ]
  },
  {
   "cell_type": "code",
   "execution_count": 97,
   "metadata": {},
   "outputs": [
    {
     "data": {
      "image/png": "[encoded data removed]",
      "text/plain": [
       "Scene (800px, 600px):\n",
       "  18 Plots:\n",
       "    ├ Combined{Makie.poly, Tuple{Vector{Vector{Point{2, Float32}}}}}\n",
       "    ├ LineSegments{Tuple{Vector{Point{2, Float32}}}}\n",
       "    ├ LineSegments{Tuple{Vector{Point{2, Float32}}}}\n",
       "    ├ LineSegments{Tuple{Vector{Point{2, Float32}}}}\n",
       "    ├ LineSegments{Tuple{Vector{Point{2, Float32}}}}\n",
       "    ├ LineSegments{Tuple{Vector{Point{2, Float32}}}}\n",
       "    ├ LineSegments{Tuple{Vector{Point{2, Float32}}}}\n",
       "    ├ MakieCore.Text{Tuple{String}}\n",
       "    ├ Lines{Tuple{Vector{Point{2, Float32}}}}\n",
       "    ├ MakieCore.Text{Tuple{Vector{Tuple{AbstractString, Point{2, Float32}}}}}\n",
       "    ├ LineSegments{Tuple{Vector{Point{2, Float32}}}}\n",
       "    ├ LineSegments{Tuple{Vector{Point{2, Float32}}}}\n",
       "    ├ MakieCore.Text{Tuple{String}}\n",
       "    ├ Lines{Tuple{Vector{Point{2, Float32}}}}\n",
       "    ├ MakieCore.Text{Tuple{Vector{Tuple{AbstractString, Point{2, Float32}}}}}\n",
       "    ├ Lines{Tuple{Vector{Point{2, Float32}}}}\n",
       "    ├ Lines{Tuple{Vector{Point{2, Float32}}}}\n",
       "    └ MakieCore.Text{Tuple{String}}\n",
       "  1 Child Scene:\n",
       "    └ Scene (734px, 541px)"
      ]
     },
     "metadata": {},
     "output_type": "display_data"
    }
   ],
   "source": [
    "lines(t, Ie)"
   ]
  },
  {
   "cell_type": "code",
   "execution_count": 67,
   "metadata": {},
   "outputs": [
    {
     "data": {
      "text/plain": [
       "2070-element Vector{Float64}:\n",
       "   0.3\n",
       "   0.31\n",
       "   0.32\n",
       "   0.33\n",
       "   0.34\n",
       "   0.35\n",
       "   0.36\n",
       "   0.37\n",
       "   0.38\n",
       "   0.39\n",
       "   ⋮\n",
       " 199.25\n",
       " 199.26\n",
       " 199.27\n",
       " 199.28\n",
       " 199.29\n",
       " 199.3\n",
       " 199.31\n",
       " 199.32\n",
       " 199.33"
      ]
     },
     "metadata": {},
     "output_type": "display_data"
    }
   ],
   "source": [
    "t[vcat(vcat(x...)[[1:100:size(vcat(x...))[1]...],:])[vcat(vcat(x...)[[1:100:size(vcat(x...))[1]...],:]) .< length(t)]]"
   ]
  },
  {
   "cell_type": "code",
   "execution_count": null,
   "metadata": {},
   "outputs": [
    {
     "data": {
      "text/plain": [
       "200"
      ]
     },
     "metadata": {},
     "output_type": "display_data"
    }
   ],
   "source": []
  },
  {
   "cell_type": "code",
   "execution_count": 16,
   "metadata": {},
   "outputs": [
    {
     "data": {
      "text/plain": [
       "100-element Vector{Matrix{Float64}}:\n",
       " [0.6625748305550737 1.9096824961638457 … 1039.4045442469092 1040.0952115935952; 4.652424548309808 7.265029741663024 … 978.7072967711047 979.5443142915555; … ; 0.5376363710976898 1.411032277087808 … 1017.6389741350561 1018.5406806925; 0.5351438781428194 2.2805269873697926 … 972.7586241519641 973.9848058841435]\n",
       " [0.6625748305550737 1.9096824961638457 … 1039.4045442469092 1040.0952115935952; 4.652424548309808 7.265029741663024 … 978.7072967711047 979.5443142915555; … ; 0.5376363710976898 1.411032277087808 … 1017.6389741350561 1018.5406806925; 0.5351438781428194 2.2805269873697926 … 972.7586241519641 973.9848058841435]\n",
       " [0.6625748305550737 1.9096824961638457 … 1039.4045442469092 1040.0952115935952; 4.652424548309808 7.265029741663024 … 978.7072967711047 979.5443142915555; … ; 0.5376363710976898 1.411032277087808 … 1017.6389741350561 1018.5406806925; 0.5351438781428194 2.2805269873697926 … 972.7586241519641 973.9848058841435]\n",
       " [0.6625748305550737 1.9096824961638457 … 1039.4045442469092 1040.0952115935952; 4.652424548309808 7.265029741663024 … 978.7072967711047 979.5443142915555; … ; 0.5376363710976898 1.411032277087808 … 1017.6389741350561 1018.5406806925; 0.5351438781428194 2.2805269873697926 … 972.7586241519641 973.9848058841435]\n",
       " [0.6625748305550737 1.9096824961638457 … 1039.4045442469092 1040.0952115935952; 4.652424548309808 7.265029741663024 … 978.7072967711047 979.5443142915555; … ; 0.5376363710976898 1.411032277087808 … 1017.6389741350561 1018.5406806925; 0.5351438781428194 2.2805269873697926 … 972.7586241519641 973.9848058841435]\n",
       " [0.6625748305550737 1.9096824961638457 … 1039.4045442469092 1040.0952115935952; 4.652424548309808 7.265029741663024 … 978.7072967711047 979.5443142915555; … ; 0.5376363710976898 1.411032277087808 … 1017.6389741350561 1018.5406806925; 0.5351438781428194 2.2805269873697926 … 972.7586241519641 973.9848058841435]\n",
       " [0.6625748305550737 1.9096824961638457 … 1039.4045442469092 1040.0952115935952; 4.652424548309808 7.265029741663024 … 978.7072967711047 979.5443142915555; … ; 0.5376363710976898 1.411032277087808 … 1017.6389741350561 1018.5406806925; 0.5351438781428194 2.2805269873697926 … 972.7586241519641 973.9848058841435]\n",
       " [0.6625748305550737 1.9096824961638457 … 1039.4045442469092 1040.0952115935952; 4.652424548309808 7.265029741663024 … 978.7072967711047 979.5443142915555; … ; 0.5376363710976898 1.411032277087808 … 1017.6389741350561 1018.5406806925; 0.5351438781428194 2.2805269873697926 … 972.7586241519641 973.9848058841435]\n",
       " [0.6625748305550737 1.9096824961638457 … 1039.4045442469092 1040.0952115935952; 4.652424548309808 7.265029741663024 … 978.7072967711047 979.5443142915555; … ; 0.5376363710976898 1.411032277087808 … 1017.6389741350561 1018.5406806925; 0.5351438781428194 2.2805269873697926 … 972.7586241519641 973.9848058841435]\n",
       " [0.6625748305550737 1.9096824961638457 … 1039.4045442469092 1040.0952115935952; 4.652424548309808 7.265029741663024 … 978.7072967711047 979.5443142915555; … ; 0.5376363710976898 1.411032277087808 … 1017.6389741350561 1018.5406806925; 0.5351438781428194 2.2805269873697926 … 972.7586241519641 973.9848058841435]\n",
       " ⋮\n",
       " [0.6625748305550737 1.9096824961638457 … 1039.4045442469092 1040.0952115935952; 4.652424548309808 7.265029741663024 … 978.7072967711047 979.5443142915555; … ; 0.5376363710976898 1.411032277087808 … 1017.6389741350561 1018.5406806925; 0.5351438781428194 2.2805269873697926 … 972.7586241519641 973.9848058841435]\n",
       " [0.6625748305550737 1.9096824961638457 … 1039.4045442469092 1040.0952115935952; 4.652424548309808 7.265029741663024 … 978.7072967711047 979.5443142915555; … ; 0.5376363710976898 1.411032277087808 … 1017.6389741350561 1018.5406806925; 0.5351438781428194 2.2805269873697926 … 972.7586241519641 973.9848058841435]\n",
       " [0.6625748305550737 1.9096824961638457 … 1039.4045442469092 1040.0952115935952; 4.652424548309808 7.265029741663024 … 978.7072967711047 979.5443142915555; … ; 0.5376363710976898 1.411032277087808 … 1017.6389741350561 1018.5406806925; 0.5351438781428194 2.2805269873697926 … 972.7586241519641 973.9848058841435]\n",
       " [0.6625748305550737 1.9096824961638457 … 1039.4045442469092 1040.0952115935952; 4.652424548309808 7.265029741663024 … 978.7072967711047 979.5443142915555; … ; 0.5376363710976898 1.411032277087808 … 1017.6389741350561 1018.5406806925; 0.5351438781428194 2.2805269873697926 … 972.7586241519641 973.9848058841435]\n",
       " [0.6625748305550737 1.9096824961638457 … 1039.4045442469092 1040.0952115935952; 4.652424548309808 7.265029741663024 … 978.7072967711047 979.5443142915555; … ; 0.5376363710976898 1.411032277087808 … 1017.6389741350561 1018.5406806925; 0.5351438781428194 2.2805269873697926 … 972.7586241519641 973.9848058841435]\n",
       " [0.6625748305550737 1.9096824961638457 … 1039.4045442469092 1040.0952115935952; 4.652424548309808 7.265029741663024 … 978.7072967711047 979.5443142915555; … ; 0.5376363710976898 1.411032277087808 … 1017.6389741350561 1018.5406806925; 0.5351438781428194 2.2805269873697926 … 972.7586241519641 973.9848058841435]\n",
       " [0.6625748305550737 1.9096824961638457 … 1039.4045442469092 1040.0952115935952; 4.652424548309808 7.265029741663024 … 978.7072967711047 979.5443142915555; … ; 0.5376363710976898 1.411032277087808 … 1017.6389741350561 1018.5406806925; 0.5351438781428194 2.2805269873697926 … 972.7586241519641 973.9848058841435]\n",
       " [0.6625748305550737 1.9096824961638457 … 1039.4045442469092 1040.0952115935952; 4.652424548309808 7.265029741663024 … 978.7072967711047 979.5443142915555; … ; 0.5376363710976898 1.411032277087808 … 1017.6389741350561 1018.5406806925; 0.5351438781428194 2.2805269873697926 … 972.7586241519641 973.9848058841435]\n",
       " [0.6625748305550737 1.9096824961638457 … 1039.4045442469092 1040.0952115935952; 4.652424548309808 7.265029741663024 … 978.7072967711047 979.5443142915555; … ; 0.5376363710976898 1.411032277087808 … 1017.6389741350561 1018.5406806925; 0.5351438781428194 2.2805269873697926 … 972.7586241519641 973.9848058841435]"
      ]
     },
     "metadata": {},
     "output_type": "display_data"
    }
   ],
   "source": [
    "fill(intervals, 100)"
   ]
  },
  {
   "cell_type": "code",
   "execution_count": 110,
   "metadata": {},
   "outputs": [
    {
     "data": {
      "text/plain": [
       "interval_time (generic function with 2 methods)"
      ]
     },
     "metadata": {},
     "output_type": "display_data"
    }
   ],
   "source": [
    "function interval_time(r::Real, N::Int64; t_max=200, max_spike = 200, dt = 0.01)\n",
    "    intervals = -log.(1 .- rand(N)) ./ r;\n",
    "    outsipke_time = cumsum(intervals);\n",
    "    return [0:dt:t_max...], [sum(outsipke_time .< t .<= (outsipke_time .+ 0.1)) == 1 ? max_spike : 0 for t in 0:dt:t_max];\n",
    "end"
   ]
  },
  {
   "cell_type": "code",
   "execution_count": 124,
   "metadata": {},
   "outputs": [
    {
     "data": {
      "text/plain": [
       "([0.0, 0.01, 0.02, 0.03, 0.04, 0.05, 0.06, 0.07, 0.08, 0.09  …  199.91, 199.92, 199.93, 199.94, 199.95, 199.96, 199.97, 199.98, 199.99, 200.0], [0, 0, 0, 0, 0, 0, 0, 0, 0, 0  …  0, 0, 0, 0, 0, 0, 0, 0, 0, 0])"
      ]
     },
     "metadata": {},
     "output_type": "display_data"
    }
   ],
   "source": [
    "_,outspikes = interval_time(0.08,1000)"
   ]
  },
  {
   "cell_type": "code",
   "execution_count": 126,
   "metadata": {},
   "outputs": [
    {
     "data": {
      "image/png": "[encoded data removed]",
      "text/plain": [
       "Scene (800px, 600px):\n",
       "  18 Plots:\n",
       "    ├ Combined{Makie.poly, Tuple{Vector{Vector{Point{2, Float32}}}}}\n",
       "    ├ LineSegments{Tuple{Vector{Point{2, Float32}}}}\n",
       "    ├ LineSegments{Tuple{Vector{Point{2, Float32}}}}\n",
       "    ├ LineSegments{Tuple{Vector{Point{2, Float32}}}}\n",
       "    ├ LineSegments{Tuple{Vector{Point{2, Float32}}}}\n",
       "    ├ LineSegments{Tuple{Vector{Point{2, Float32}}}}\n",
       "    ├ LineSegments{Tuple{Vector{Point{2, Float32}}}}\n",
       "    ├ MakieCore.Text{Tuple{String}}\n",
       "    ├ Lines{Tuple{Vector{Point{2, Float32}}}}\n",
       "    ├ MakieCore.Text{Tuple{Vector{Tuple{AbstractString, Point{2, Float32}}}}}\n",
       "    ├ LineSegments{Tuple{Vector{Point{2, Float32}}}}\n",
       "    ├ LineSegments{Tuple{Vector{Point{2, Float32}}}}\n",
       "    ├ MakieCore.Text{Tuple{String}}\n",
       "    ├ Lines{Tuple{Vector{Point{2, Float32}}}}\n",
       "    ├ MakieCore.Text{Tuple{Vector{Tuple{AbstractString, Point{2, Float32}}}}}\n",
       "    ├ Lines{Tuple{Vector{Point{2, Float32}}}}\n",
       "    ├ Lines{Tuple{Vector{Point{2, Float32}}}}\n",
       "    └ MakieCore.Text{Tuple{String}}\n",
       "  1 Child Scene:\n",
       "    └ Scene (730px, 541px)"
      ]
     },
     "metadata": {},
     "output_type": "display_data"
    }
   ],
   "source": []
  },
  {
   "cell_type": "code",
   "execution_count": 104,
   "metadata": {},
   "outputs": [
    {
     "data": {
      "text/plain": [
       "20001-element Vector{Int64}:\n",
       " 0\n",
       " 0\n",
       " 0\n",
       " 0\n",
       " 0\n",
       " 0\n",
       " 0\n",
       " 0\n",
       " 0\n",
       " 0\n",
       " ⋮\n",
       " 0\n",
       " 0\n",
       " 0\n",
       " 0\n",
       " 0\n",
       " 0\n",
       " 0\n",
       " 0\n",
       " 0"
      ]
     },
     "metadata": {},
     "output_type": "display_data"
    }
   ],
   "source": [
    "t = [0:dt:T...]\n",
    "interval_t = interval_time(0.03,1000);\n",
    "\n",
    "out_spikes = [sum(interval_t .< i .<= (interval_t .+ 0.1)) == 1 ? 200 : 0 for i in 0:dt:T]"
   ]
  },
  {
   "cell_type": "code",
   "execution_count": 106,
   "metadata": {},
   "outputs": [
    {
     "data": {
      "image/png": "[encoded data removed]",
      "text/plain": [
       "Scene (800px, 600px):\n",
       "  18 Plots:\n",
       "    ├ Combined{Makie.poly, Tuple{Vector{Vector{Point{2, Float32}}}}}\n",
       "    ├ LineSegments{Tuple{Vector{Point{2, Float32}}}}\n",
       "    ├ LineSegments{Tuple{Vector{Point{2, Float32}}}}\n",
       "    ├ LineSegments{Tuple{Vector{Point{2, Float32}}}}\n",
       "    ├ LineSegments{Tuple{Vector{Point{2, Float32}}}}\n",
       "    ├ LineSegments{Tuple{Vector{Point{2, Float32}}}}\n",
       "    ├ LineSegments{Tuple{Vector{Point{2, Float32}}}}\n",
       "    ├ MakieCore.Text{Tuple{String}}\n",
       "    ├ Lines{Tuple{Vector{Point{2, Float32}}}}\n",
       "    ├ MakieCore.Text{Tuple{Vector{Tuple{AbstractString, Point{2, Float32}}}}}\n",
       "    ├ LineSegments{Tuple{Vector{Point{2, Float32}}}}\n",
       "    ├ LineSegments{Tuple{Vector{Point{2, Float32}}}}\n",
       "    ├ MakieCore.Text{Tuple{String}}\n",
       "    ├ Lines{Tuple{Vector{Point{2, Float32}}}}\n",
       "    ├ MakieCore.Text{Tuple{Vector{Tuple{AbstractString, Point{2, Float32}}}}}\n",
       "    ├ Lines{Tuple{Vector{Point{2, Float32}}}}\n",
       "    ├ Lines{Tuple{Vector{Point{2, Float32}}}}\n",
       "    └ MakieCore.Text{Tuple{String}}\n",
       "  1 Child Scene:\n",
       "    └ Scene (730px, 541px)"
      ]
     },
     "metadata": {},
     "output_type": "display_data"
    }
   ],
   "source": [
    "lines(t, out_spikes)"
   ]
  },
  {
   "cell_type": "code",
   "execution_count": 53,
   "metadata": {},
   "outputs": [
    {
     "data": {
      "text/plain": [
       "0.0006209958814906713"
      ]
     },
     "metadata": {},
     "output_type": "display_data"
    }
   ],
   "source": [
    "plot([0:0.01:200...], )"
   ]
  },
  {
   "cell_type": "code",
   "execution_count": 25,
   "metadata": {},
   "outputs": [
    {
     "data": {
      "image/png": "[encoded data removed]",
      "text/plain": [
       "Scene (800px, 600px):\n",
       "  18 Plots:\n",
       "    ├ Combined{Makie.poly, Tuple{Vector{Vector{Point{2, Float32}}}}}\n",
       "    ├ LineSegments{Tuple{Vector{Point{2, Float32}}}}\n",
       "    ├ LineSegments{Tuple{Vector{Point{2, Float32}}}}\n",
       "    ├ LineSegments{Tuple{Vector{Point{2, Float32}}}}\n",
       "    ├ LineSegments{Tuple{Vector{Point{2, Float32}}}}\n",
       "    ├ LineSegments{Tuple{Vector{Point{2, Float32}}}}\n",
       "    ├ LineSegments{Tuple{Vector{Point{2, Float32}}}}\n",
       "    ├ MakieCore.Text{Tuple{String}}\n",
       "    ├ Lines{Tuple{Vector{Point{2, Float32}}}}\n",
       "    ├ MakieCore.Text{Tuple{Vector{Tuple{AbstractString, Point{2, Float32}}}}}\n",
       "    ├ LineSegments{Tuple{Vector{Point{2, Float32}}}}\n",
       "    ├ LineSegments{Tuple{Vector{Point{2, Float32}}}}\n",
       "    ├ MakieCore.Text{Tuple{String}}\n",
       "    ├ Lines{Tuple{Vector{Point{2, Float32}}}}\n",
       "    ├ MakieCore.Text{Tuple{Vector{Tuple{AbstractString, Point{2, Float32}}}}}\n",
       "    ├ Lines{Tuple{Vector{Point{2, Float32}}}}\n",
       "    ├ Lines{Tuple{Vector{Point{2, Float32}}}}\n",
       "    └ MakieCore.Text{Tuple{String}}\n",
       "  1 Child Scene:\n",
       "    └ Scene (734px, 541px)"
      ]
     },
     "metadata": {},
     "output_type": "display_data"
    }
   ],
   "source": [
    "r = 1\n",
    "\n",
    "f = Figure()\n",
    "ax = Axis(f[1, 1])\n",
    "hist!(ax, -log.(1 .- rand(1000)) ./ r, normalization=:pdf)\n",
    "# lines!(ax, [0:0.01:10...], r .* exp.(-r .* [0:0.01:10...]), color=:red)\n",
    "f"
   ]
  },
  {
   "cell_type": "code",
   "execution_count": 59,
   "metadata": {},
   "outputs": [
    {
     "data": {
      "image/png": "[encoded data removed]",
      "text/plain": [
       "Scene (800px, 600px):\n",
       "  18 Plots:\n",
       "    ├ Combined{Makie.poly, Tuple{Vector{Vector{Point{2, Float32}}}}}\n",
       "    ├ LineSegments{Tuple{Vector{Point{2, Float32}}}}\n",
       "    ├ LineSegments{Tuple{Vector{Point{2, Float32}}}}\n",
       "    ├ LineSegments{Tuple{Vector{Point{2, Float32}}}}\n",
       "    ├ LineSegments{Tuple{Vector{Point{2, Float32}}}}\n",
       "    ├ LineSegments{Tuple{Vector{Point{2, Float32}}}}\n",
       "    ├ LineSegments{Tuple{Vector{Point{2, Float32}}}}\n",
       "    ├ MakieCore.Text{Tuple{String}}\n",
       "    ├ Lines{Tuple{Vector{Point{2, Float32}}}}\n",
       "    ├ MakieCore.Text{Tuple{Vector{Tuple{AbstractString, Point{2, Float32}}}}}\n",
       "    ├ LineSegments{Tuple{Vector{Point{2, Float32}}}}\n",
       "    ├ LineSegments{Tuple{Vector{Point{2, Float32}}}}\n",
       "    ├ MakieCore.Text{Tuple{String}}\n",
       "    ├ Lines{Tuple{Vector{Point{2, Float32}}}}\n",
       "    ├ MakieCore.Text{Tuple{Vector{Tuple{AbstractString, Point{2, Float32}}}}}\n",
       "    ├ Lines{Tuple{Vector{Point{2, Float32}}}}\n",
       "    ├ Lines{Tuple{Vector{Point{2, Float32}}}}\n",
       "    └ MakieCore.Text{Tuple{String}}\n",
       "  1 Child Scene:\n",
       "    └ Scene (734px, 541px)"
      ]
     },
     "metadata": {},
     "output_type": "display_data"
    }
   ],
   "source": [
    "lines([0:0.01:100...], [40 < i <=40.2 ? 1 : 0 for i in 0:0.01:100])"
   ]
  },
  {
   "cell_type": "code",
   "execution_count": 2,
   "metadata": {},
   "outputs": [],
   "source": [
    "using CairoMakie"
   ]
  }
 ],
 "metadata": {
  "kernelspec": {
   "display_name": "Julia 1.9.3",
   "language": "julia",
   "name": "julia-1.9"
  },
  "language_info": {
   "file_extension": ".jl",
   "mimetype": "application/julia",
   "name": "julia",
   "version": "1.9.3"
  }
 },
 "nbformat": 4,
 "nbformat_minor": 2
}
