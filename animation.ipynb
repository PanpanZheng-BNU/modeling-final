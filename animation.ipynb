{
 "cells": [
  {
   "cell_type": "code",
   "execution_count": 1,
   "metadata": {},
   "outputs": [],
   "source": [
    "using CairoMakie, LaTeXStrings"
   ]
  },
  {
   "cell_type": "code",
   "execution_count": 2,
   "metadata": {},
   "outputs": [],
   "source": [
    "include(\"./myfuncs.jl\")\n",
    "using .MyFuncs"
   ]
  },
  {
   "cell_type": "code",
   "execution_count": 3,
   "metadata": {},
   "outputs": [
    {
     "data": {
      "text/plain": [
       "\"t.gif\""
      ]
     },
     "metadata": {},
     "output_type": "display_data"
    }
   ],
   "source": [
    "dt = 0.001;\n",
    "T = 50;\n",
    "\n",
    "framerate = 10;\n",
    "Iext_iterator = -5:1:12;\n",
    "\n",
    "single_HH = HH{Float64}(N=1, p = 0.1)\n",
    "fig = Figure()\n",
    "ax = Axis(fig[1, 1])\n",
    "\n",
    "record(fig, \"t.gif\", Iext_iterator;\n",
    "        framerate = framerate) do iex\n",
    "    Vs = Vector{Vector{Float64}}(undef, length([0:dt:T...]))\n",
    "    for j in 1:1e5\n",
    "        update!(single_HH, single_HH.param, -5 * ones(1), dt)\n",
    "    end\n",
    "\n",
    "    for i in 1:length([0:dt:T...])\n",
    "        update!(single_HH, single_HH.param, iex * ones(1), dt)\n",
    "        Vs[i] = single_HH.v[:]\n",
    "    end\n",
    "    empty!(ax)\n",
    "    # ax.names.title=\"10\"\n",
    "    lines!(ax, [0:dt:50...], vcat(Vs...); linewidth=1.5, color=:gray)\n",
    "    lines!(ax, [0,50], zeros(2); linewidth=1, color=:black, linestyle=:dash)\n",
    "    text!(ax,latexstring(L\"I_{\\mathrm{app}} =\" * string(iex) * L\"\\,\\mathrm{nA}\"), position=(25, 45), align = (:center, :center))\n",
    "    ylims!(ax, (-75, 50))\n",
    "    xlims!(ax, (0,50))\n",
    "    ax.xlabel = \"Time (ms)\"\n",
    "    ax.ylabel = \"Membrane potential (mV)\"\n",
    "    hidedecorations!(ax, ticklabels=false, label=false)\n",
    "end"
   ]
  }
 ],
 "metadata": {
  "kernelspec": {
   "display_name": "Julia 1.9.3",
   "language": "julia",
   "name": "julia-1.9"
  },
  "language_info": {
   "file_extension": ".jl",
   "mimetype": "application/julia",
   "name": "julia",
   "version": "1.9.3"
  }
 },
 "nbformat": 4,
 "nbformat_minor": 2
}
