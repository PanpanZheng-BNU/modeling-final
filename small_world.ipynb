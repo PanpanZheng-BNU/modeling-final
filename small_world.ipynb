{
 "cells": [
  {
   "cell_type": "markdown",
   "metadata": {},
   "source": [
    "# Small-world Network (Newman-Watts networks)\n",
    "- **Newman Watts procedure**\n",
    "We constructed small-world networks according the Newman–Watts procedure described above, starting from a one-dimensional regular chain of $N$ nodes, where each node is connected to its $2$ nearest neighbors. The two parameters characterizing the network architecture to be used are the number of neurons $N$ and the probability of nonlocal shortcuts $p$. The small-world property holds for a wide class of Newman–Watts networks, obtained with probabilities ranging from $p = 0.001$ to $p = 0.01$. Proceeding in this way we obtained a corresponding adjacency matrix aij. Since the probability p is typically small, this matrix is band-diagonal and presents sparse nonzero elements at both sides."
   ]
  },
  {
   "cell_type": "code",
   "execution_count": 2,
   "metadata": {},
   "outputs": [
    {
     "data": {
      "text/plain": [
       "NWnetworks (generic function with 1 method)"
      ]
     },
     "metadata": {},
     "output_type": "display_data"
    }
   ],
   "source": [
    "using Graphs, Random\n",
    "\n",
    "# NWnetworks Fucntion - generate a NWnetwork with N nodes and p probability and return a ::SimpleGraph type\n",
    "function NWnetworks(N::Int64, p::Float64; seed::Int64=20231206)::SimpleGraph \n",
    "    adj_mat = hcat([[abs(j-i) ∈ [1,N-1] ? 1 : 0 for j in 1:N] for i in 1:N]...)\n",
    "    Random.seed!(seed)\n",
    "    @inbounds for (i,j) in enumerate(eachrow(adj_mat))\n",
    "        rand() > p && continue       # 0.1% add new edge \n",
    "        zero_index = findall(iszero, j) # find all zero index\n",
    "        filtered_index = zero_index[zero_index .> i] # filter index > row index i\n",
    "        selected_index = rand(filtered_index) # select one index which will be added new edge to vertice i randomly\n",
    "        adj_mat[i, selected_index] = 1  # add new edge\n",
    "        adj_mat[selected_index, i] = 1  # add new edge\n",
    "    end\n",
    "    return Graph(adj_mat)\n",
    "end"
   ]
  },
  {
   "cell_type": "code",
   "execution_count": 3,
   "metadata": {},
   "outputs": [
    {
     "data": {
      "text/plain": [
       "{2000, 2003} undirected simple Int64 graph"
      ]
     },
     "metadata": {},
     "output_type": "display_data"
    }
   ],
   "source": [
    "nwwork = NWnetworks(2000,0.001)"
   ]
  },
  {
   "cell_type": "markdown",
   "metadata": {},
   "source": [
    "## Functions in Graphs package\n",
    "- `neighbor(G::Graph, i::Int)` return the neihbors of `i` vertice in graph `G`"
   ]
  },
  {
   "cell_type": "code",
   "execution_count": 4,
   "metadata": {},
   "outputs": [
    {
     "data": {
      "text/plain": [
       "6-element Vector{Vector{Int64}}:\n",
       " [214, 216, 761]\n",
       " [479, 481, 1129]\n",
       " [215, 760, 762]\n",
       " [480, 1128, 1130]\n",
       " [1859, 1861, 1914]\n",
       " [1860, 1913, 1915]"
      ]
     },
     "metadata": {},
     "output_type": "display_data"
    }
   ],
   "source": [
    "[neighbors(nwwork,i) for i in 1:length(vertices(nwwork))][length.([neighbors(nwwork,i) for i in 1:length(vertices(nwwork))]) .> 2]\n"
   ]
  }
 ],
 "metadata": {
  "kernelspec": {
   "display_name": "Julia 1.9.3",
   "language": "julia",
   "name": "julia-1.9"
  },
  "language_info": {
   "file_extension": ".jl",
   "mimetype": "application/julia",
   "name": "julia",
   "version": "1.9.3"
  }
 },
 "nbformat": 4,
 "nbformat_minor": 2
}
