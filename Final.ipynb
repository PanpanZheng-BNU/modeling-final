{
 "cells": [
  {
   "cell_type": "code",
   "execution_count": 1,
   "metadata": {},
   "outputs": [],
   "source": [
    "using Base: @kwdef\n",
    "using Parameters: @unpack\n",
    "using Makie, CairoMakie\n",
    "using StatsBase"
   ]
  },
  {
   "cell_type": "code",
   "execution_count": 2,
   "metadata": {},
   "outputs": [],
   "source": [
    "# Define the struct of the parameters which used in HH Equation\n",
    "@kwdef struct HHPara{FT}\n",
    "    cM::FT = 1.0; # the capacity of membrane\n",
    "    ḡNa::FT = 120.0; ḡK::FT = 36.0; ḡL::FT = 0.3;\n",
    "    ENa::FT = 50.0; EK::FT = -72.0; EL::FT = -49.0;\n",
    "    V0::FT = -20.0; VSync::FT=20.0;\n",
    "    tauR::FT = 0.5; tauD::FT = 8.0;\n",
    "    invtr::FT = 1/tauR; invtd::FT = 1/tauD;\n",
    "end\n",
    "\n",
    "# Define the struct of the variables which used in HH Equation\n",
    "@kwdef mutable struct HH{FT}\n",
    "    param::HHPara = HHPara{FT}()\n",
    "    N::UInt16   # the number of neurons\n",
    "    v::Vector{FT} = fill(-61.77, N)    # the voltage of membrane\n",
    "    m::Vector{FT} = fill(0.08,N); h::Vector{FT} = fill(0.48,N); n::Vector{FT} = fill(0.36,N); # the gating value\n",
    "    r::Vector{FT} = zeros(N)\n",
    "end"
   ]
  },
  {
   "cell_type": "code",
   "execution_count": 3,
   "metadata": {},
   "outputs": [
    {
     "data": {
      "text/plain": [
       "update! (generic function with 1 method)"
      ]
     },
     "metadata": {},
     "output_type": "display_data"
    }
   ],
   "source": [
    "function update!(variable::HH, para::HHPara, Ie::Vector, dt)\n",
    "    @unpack N, v, m, h, n, r = variable\n",
    "    @unpack cM, ḡNa, ḡK, ḡL, ENa, EK, EL, invtr, invtd, V0 = para\n",
    "\n",
    "    αn(V) = 0.01 * (V + 50)/(1 - exp(-(V + 50)/10))\n",
    "    βn(V) = 0.125 * exp(-(V + 60)/80)\n",
    "    αm(V) = 0.1 * (V + 35)/(1 - exp(-(V + 35)/10))\n",
    "    βm(V) = 4.0 * exp(-(V + 60)/18)\n",
    "    αh(V) = 0.07 * exp(-(V + 60)/20)\n",
    "    βh(V) = 1/(1 + exp(-(V + 30)/10))\n",
    "    @inbounds for i = 1:N\n",
    "        m[i] += dt * (αm(v[i]) * (1 - m[i]) - βm(v[i]) * m[i])        \n",
    "        h[i] += dt * (αh(v[i]) * (1 - h[i]) - βh(v[i]) * h[i])\n",
    "        n[i] += dt * (αn(v[i]) * (1 - n[i]) - βn(v[i]) * n[i])\n",
    "\n",
    "\n",
    "        v[i] += dt / cM * (Ie[i] - ḡNa * m[i]^3 * h[i] * (v[i] - ENa) - ḡK * n[i]^4 * (v[i] - EK) - ḡL * (v[i] - EL))\n",
    "        r[i] += dt * ((invtr - invtd) * (1 - r[i])/(1 + exp(-v[i] + V0)) - r[i] * invtd)\n",
    "    end\n",
    "end"
   ]
  },
  {
   "cell_type": "code",
   "execution_count": 4,
   "metadata": {},
   "outputs": [
    {
     "data": {
      "text/plain": [
       "spike (generic function with 1 method)"
      ]
     },
     "metadata": {},
     "output_type": "display_data"
    }
   ],
   "source": [
    "function spike(V::Union{Vector{Float64}, SubArray{Float64}})\n",
    "    findall(x -> x, (V[1:end-1] .< 0) .&  (V[2:end] .> 0))\n",
    "end"
   ]
  },
  {
   "cell_type": "code",
   "execution_count": 8,
   "metadata": {},
   "outputs": [
    {
     "data": {
      "text/plain": [
       "interval_time (generic function with 1 method)"
      ]
     },
     "metadata": {},
     "output_type": "display_data"
    }
   ],
   "source": [
    "function interval_time(r::Real, N::Int64; t_max=200, max_spike = 200, dt = 0.01)\n",
    "    intervals = -log.(1 .- rand(N)) ./ r;\n",
    "    outsipke_time = cumsum(intervals);\n",
    "    return [0:dt:t_max...], [sum(outsipke_time .< t .<= (outsipke_time .+ 0.1)) == 1 ? max_spike : 0 for t in 0:dt:t_max];\n",
    "end"
   ]
  },
  {
   "cell_type": "code",
   "execution_count": 5,
   "metadata": {},
   "outputs": [
    {
     "data": {
      "text/plain": [
       "HHPara{Float64}(1.0, 120.0, 36.0, 0.3, 50.0, -72.0, -49.0, -20.0, 20.0, 0.5, 8.0, 2.0, 0.125)"
      ]
     },
     "metadata": {},
     "output_type": "display_data"
    }
   ],
   "source": [
    "dt = 0.01\n",
    "T = 200\n",
    "N = 100\n",
    "\n",
    "hh = HH{Float64}(N=N)\n",
    "para = HHPara{Float64}()\n"
   ]
  },
  {
   "cell_type": "code",
   "execution_count": 17,
   "metadata": {},
   "outputs": [
    {
     "data": {
      "text/plain": [
       "8"
      ]
     },
     "metadata": {},
     "output_type": "display_data"
    }
   ],
   "source": []
  },
  {
   "cell_type": "code",
   "execution_count": 31,
   "metadata": {},
   "outputs": [
    {
     "data": {
      "text/plain": [
       "20001×1000 Matrix{Float64}:\n",
       " 0.0  0.0  0.0  0.0  0.0  0.0  0.0  …  0.0  0.0    0.0  0.0  0.0  0.0  0.0\n",
       " 0.0  0.0  0.0  0.0  0.0  0.0  0.0     0.0  0.0    0.0  0.0  0.0  0.0  0.0\n",
       " 0.0  0.0  0.0  0.0  0.0  0.0  0.0     0.0  0.0    0.0  0.0  0.0  0.0  0.0\n",
       " 0.0  0.0  0.0  0.0  0.0  0.0  0.0     0.0  0.0    0.0  0.0  0.0  0.0  0.0\n",
       " 0.0  0.0  0.0  0.0  0.0  0.0  0.0     0.0  0.0    0.0  0.0  0.0  0.0  0.0\n",
       " 0.0  0.0  0.0  0.0  0.0  0.0  0.0  …  0.0  0.0    0.0  0.0  0.0  0.0  0.0\n",
       " 0.0  0.0  0.0  0.0  0.0  0.0  0.0     0.0  0.0    0.0  0.0  0.0  0.0  0.0\n",
       " 0.0  0.0  0.0  0.0  0.0  0.0  0.0     0.0  0.0    0.0  0.0  0.0  0.0  0.0\n",
       " 0.0  0.0  0.0  0.0  0.0  0.0  0.0     0.0  0.0    0.0  0.0  0.0  0.0  0.0\n",
       " 0.0  0.0  0.0  0.0  0.0  0.0  0.0     0.0  0.0    0.0  0.0  0.0  0.0  0.0\n",
       " ⋮                        ⋮         ⋱              ⋮                   \n",
       " 0.0  0.0  0.0  0.0  0.0  0.0  0.0     0.0  0.0    0.0  0.0  0.0  0.0  0.0\n",
       " 0.0  0.0  0.0  0.0  0.0  0.0  0.0     0.0  0.0    0.0  0.0  0.0  0.0  0.0\n",
       " 0.0  0.0  0.0  0.0  0.0  0.0  0.0     0.0  0.0    0.0  0.0  0.0  0.0  0.0\n",
       " 0.0  0.0  0.0  0.0  0.0  0.0  0.0  …  0.0  0.0    0.0  0.0  0.0  0.0  0.0\n",
       " 0.0  0.0  0.0  0.0  0.0  0.0  0.0     0.0  0.0    0.0  0.0  0.0  0.0  0.0\n",
       " 0.0  0.0  0.0  0.0  0.0  0.0  0.0     0.0  0.0  200.0  0.0  0.0  0.0  0.0\n",
       " 0.0  0.0  0.0  0.0  0.0  0.0  0.0     0.0  0.0  200.0  0.0  0.0  0.0  0.0\n",
       " 0.0  0.0  0.0  0.0  0.0  0.0  0.0     0.0  0.0  200.0  0.0  0.0  0.0  0.0\n",
       " 0.0  0.0  0.0  0.0  0.0  0.0  0.0  …  0.0  0.0  200.0  0.0  0.0  0.0  0.0"
      ]
     },
     "metadata": {},
     "output_type": "display_data"
    }
   ],
   "source": [
    "generateIIe(0.1)"
   ]
  },
  {
   "cell_type": "code",
   "execution_count": 30,
   "metadata": {},
   "outputs": [
    {
     "data": {
      "text/plain": [
       "generateIIe (generic function with 1 method)"
      ]
     },
     "metadata": {},
     "output_type": "display_data"
    }
   ],
   "source": [
    "function generateIIe(r)\n",
    "    IIe = Array{Vector{Float64}}(undef, 10^3)\n",
    "    Threads.@threads for i in 1:10^3\n",
    "        IIe[i] = interval_time(r, 1000, t_max=T, max_spike=200, dt=dt)[2]\n",
    "    end\n",
    "    return hcat(IIe...)\n",
    "end"
   ]
  },
  {
   "cell_type": "code",
   "execution_count": 32,
   "metadata": {},
   "outputs": [],
   "source": [
    "hh1000 = HH{Float64}(N=1000);\n",
    "\n",
    "for (i,j) in enumerate([0:dt:T...])    \n",
    "    update!(hh1000,para, generateIIe(0.1)[:,i], dt)\n",
    "end"
   ]
  },
  {
   "cell_type": "code",
   "execution_count": null,
   "metadata": {},
   "outputs": [],
   "source": []
  },
  {
   "cell_type": "code",
   "execution_count": 10,
   "metadata": {},
   "outputs": [
    {
     "ename": "InterruptException",
     "evalue": "InterruptException:",
     "output_type": "error",
     "traceback": [
      "InterruptException:\n",
      "\n",
      "Stacktrace:\n",
      "  [1] Array\n",
      "    @ ./boot.jl:477 [inlined]\n",
      "  [2] BitArray\n",
      "    @ ./bitarray.jl:37 [inlined]\n",
      "  [3] BitArray\n",
      "    @ ./bitarray.jl:71 [inlined]\n",
      "  [4] similar\n",
      "    @ ./abstractarray.jl:884 [inlined]\n",
      "  [5] similar\n",
      "    @ ./abstractarray.jl:883 [inlined]\n",
      "  [6] similar\n",
      "    @ ./broadcast.jl:214 [inlined]\n",
      "  [7] similar\n",
      "    @ ./broadcast.jl:211 [inlined]\n",
      "  [8] copy\n",
      "    @ ./broadcast.jl:898 [inlined]\n",
      "  [9] materialize\n",
      "    @ ./broadcast.jl:873 [inlined]\n",
      " [10] (::var\"#27#28\"{Int64, Vector{Float64}})(t::Float64)\n",
      "    @ Main ./none:0\n",
      " [11] iterate\n",
      "    @ ./generator.jl:47 [inlined]\n",
      " [12] collect_to!\n",
      "    @ ./array.jl:840 [inlined]\n",
      " [13] collect_to_with_first!\n",
      "    @ ./array.jl:818 [inlined]\n",
      " [14] collect(itr::Base.Generator{StepRangeLen{Float64, Base.TwicePrecision{Float64}, Base.TwicePrecision{Float64}, Int64}, var\"#27#28\"{Int64, Vector{Float64}}})\n",
      "    @ Base ./array.jl:792\n",
      " [15] interval_time(r::Float64, N::Int64; t_max::Int64, max_spike::Int64, dt::Float64)\n",
      "    @ Main ~/Documents/code/Homework/modeling_final/Final.ipynb:4\n",
      " [16] interval_time\n",
      "    @ ~/Documents/code/Homework/modeling_final/Final.ipynb:1 [inlined]\n",
      " [17] top-level scope\n",
      "    @ ~/Documents/code/Homework/modeling_final/Final.ipynb:9"
     ]
    }
   ],
   "source": [
    "V1 = Vector{Float64}(undef, length([0:dt:T...]))\n",
    "avg_frequencies = Vector{Float64}(undef, length(10 .^ (-3:0.1:1)))\n",
    "\n",
    "\n",
    "for (k,r) in enumerate(10 .^ (-3:0.1:1))\n",
    "    frequencies = Vector{Float64}(undef, 100)\n",
    "    for l in 1:100\n",
    "        hh_just1 = HH{Float64}(N=1)\n",
    "        _,Ie = interval_time(r,1000;)\n",
    "        for (i,j) in enumerate([0:dt:T...])    \n",
    "            update!(hh_just1, para, [Ie[i]], dt)\n",
    "            V1[i] = hh_just1.v[1]\n",
    "        end\n",
    "        frequencies[l] = length(spike(V1))/T\n",
    "    end\n",
    "\n",
    "    avg_frequencies[k] = mean(frequencies)\n",
    "\n",
    "end\n",
    "println(length(spike(V1))/200)\n",
    "# lines(V1)"
   ]
  },
  {
   "cell_type": "code",
   "execution_count": null,
   "metadata": {},
   "outputs": [],
   "source": [
    "fig2 = Figure()\n",
    "ax = Axis(\n",
    "    fig2[1,1],\n",
    "    xscale = log10\n",
    ")\n",
    "scatter!(ax, 10 .^ (-3:0.1:1), avg_frequencies)\n",
    "fig2"
   ]
  },
  {
   "cell_type": "code",
   "execution_count": 174,
   "metadata": {},
   "outputs": [
    {
     "data": {
      "text/plain": [
       "401-element Vector{Float64}:\n",
       "  0.001\n",
       "  0.0010232929922807535\n",
       "  0.0010471285480508996\n",
       "  0.001071519305237606\n",
       "  0.0010964781961431851\n",
       "  0.001122018454301963\n",
       "  0.0011481536214968829\n",
       "  0.001174897554939529\n",
       "  0.001202264434617413\n",
       "  0.0012302687708123812\n",
       "  ⋮\n",
       "  8.31763771102671\n",
       "  8.511380382023766\n",
       "  8.709635899560805\n",
       "  8.912509381337454\n",
       "  9.120108393559097\n",
       "  9.33254300796991\n",
       "  9.549925860214358\n",
       "  9.772372209558107\n",
       " 10.0"
      ]
     },
     "metadata": {},
     "output_type": "display_data"
    }
   ],
   "source": []
  },
  {
   "cell_type": "code",
   "execution_count": 126,
   "metadata": {},
   "outputs": [],
   "source": []
  },
  {
   "cell_type": "code",
   "execution_count": 125,
   "metadata": {},
   "outputs": [
    {
     "data": {
      "text/plain": [
       "20001-element Vector{Float64}:\n",
       " NaN\n",
       " NaN\n",
       " NaN\n",
       " NaN\n",
       " NaN\n",
       " NaN\n",
       " NaN\n",
       " NaN\n",
       " NaN\n",
       " NaN\n",
       "   ⋮\n",
       " NaN\n",
       " NaN\n",
       " NaN\n",
       " NaN\n",
       " NaN\n",
       " NaN\n",
       " NaN\n",
       " NaN\n",
       " NaN"
      ]
     },
     "metadata": {},
     "output_type": "display_data"
    }
   ],
   "source": [
    "minimum.(Vs)"
   ]
  },
  {
   "cell_type": "code",
   "execution_count": 124,
   "metadata": {},
   "outputs": [
    {
     "data": {
      "text/plain": [
       "100-element Vector{Int64}:\n",
       " -20\n",
       " -10\n",
       " -60\n",
       "  10\n",
       " -60\n",
       " -10\n",
       " -40\n",
       "  10\n",
       "  20\n",
       " -10\n",
       "   ⋮\n",
       "  30\n",
       " -10\n",
       " -10\n",
       " -70\n",
       "  20\n",
       " -60\n",
       " -30\n",
       " -30\n",
       " -60"
      ]
     },
     "metadata": {},
     "output_type": "display_data"
    }
   ],
   "source": [
    "hh.v = rand([-70:10:40...],N)"
   ]
  },
  {
   "cell_type": "code",
   "execution_count": 88,
   "metadata": {},
   "outputs": [],
   "source": [
    "I_pre = hcat([interval_time(0.1,1000; t_max=1000)[2] for k in 1:N]...);"
   ]
  },
  {
   "cell_type": "code",
   "execution_count": 94,
   "metadata": {},
   "outputs": [],
   "source": [
    "dt= 0.01\n",
    "T = 200\n",
    "Vs = Array{Vector{Float64}}(undef,length([0:0.01:T...]))\n",
    "rs = Vector{Float64}(undef,length([0:0.01:T...]))\n",
    "Ies = Vector{Int64}(undef,length([0:0.01:T...]))\n",
    "# for (i,j) in enumerate([0:dt:1000...])\n",
    "#     Ie = I_pre[i, :]\n",
    "#     update!(hh,para,Ie,dt)\n",
    "# end\n",
    "\n",
    "_,Iall = interval_time(0.3,1000)\n",
    "\n",
    "for (i,j) in enumerate([0:dt:T...])\n",
    "    # 100 < j <= 100.1 ? Ie = [200,0] : 150 < j <= 150.1 ? Ie = [100,0] : Ie = [0,0]\n",
    "    # Ie = [0]\n",
    "    Ie = vcat(fill(Iall[i], N)...)\n",
    "    \n",
    "    # sum(Ie) > 0 && @show Ie\n",
    "    update!(hh, para, Ie, dt)\n",
    "    Vs[i] = [hh.v[i] for i in 1:N]\n",
    "    Ies[i] = Ie[1]\n",
    "end\n"
   ]
  },
  {
   "cell_type": "code",
   "execution_count": 95,
   "metadata": {},
   "outputs": [
    {
     "data": {
      "image/png": "[encoded data removed]",
      "text/plain": [
       "Scene (900px, 420px):\n",
       "  54 Plots:\n",
       "    ├ Combined{Makie.poly, Tuple{Vector{Vector{Point{2, Float32}}}}}\n",
       "    ├ LineSegments{Tuple{Vector{Point{2, Float32}}}}\n",
       "    ├ LineSegments{Tuple{Vector{Point{2, Float32}}}}\n",
       "    ├ LineSegments{Tuple{Vector{Point{2, Float32}}}}\n",
       "    ├ LineSegments{Tuple{Vector{Point{2, Float32}}}}\n",
       "    ├ LineSegments{Tuple{Vector{Point{2, Float32}}}}\n",
       "    ├ LineSegments{Tuple{Vector{Point{2, Float32}}}}\n",
       "    ├ MakieCore.Text{Tuple{String}}\n",
       "    ├ Lines{Tuple{Vector{Point{2, Float32}}}}\n",
       "    ├ MakieCore.Text{Tuple{Vector{Tuple{AbstractString, Point{2, Float32}}}}}\n",
       "    ├ LineSegments{Tuple{Vector{Point{2, Float32}}}}\n",
       "    ├ LineSegments{Tuple{Vector{Point{2, Float32}}}}\n",
       "    ├ MakieCore.Text{Tuple{String}}\n",
       "    ├ Lines{Tuple{Vector{Point{2, Float32}}}}\n",
       "    ├ MakieCore.Text{Tuple{Vector{Tuple{AbstractString, Point{2, Float32}}}}}\n",
       "    ├ Lines{Tuple{Vector{Point{2, Float32}}}}\n",
       "    ├ Lines{Tuple{Vector{Point{2, Float32}}}}\n",
       "    ├ MakieCore.Text{Tuple{String}}\n",
       "    ├ Combined{Makie.poly, Tuple{Vector{Vector{Point{2, Float32}}}}}\n",
       "    ├ LineSegments{Tuple{Vector{Point{2, Float32}}}}\n",
       "    ├ LineSegments{Tuple{Vector{Point{2, Float32}}}}\n",
       "    ├ LineSegments{Tuple{Vector{Point{2, Float32}}}}\n",
       "    ├ LineSegments{Tuple{Vector{Point{2, Float32}}}}\n",
       "    ├ LineSegments{Tuple{Vector{Point{2, Float32}}}}\n",
       "    ├ LineSegments{Tuple{Vector{Point{2, Float32}}}}\n",
       "    ├ MakieCore.Text{Tuple{String}}\n",
       "    ├ Lines{Tuple{Vector{Point{2, Float32}}}}\n",
       "    ├ MakieCore.Text{Tuple{Vector{Tuple{AbstractString, Point{2, Float32}}}}}\n",
       "    ├ LineSegments{Tuple{Vector{Point{2, Float32}}}}\n",
       "    ├ LineSegments{Tuple{Vector{Point{2, Float32}}}}\n",
       "    ├ MakieCore.Text{Tuple{String}}\n",
       "    ├ Lines{Tuple{Vector{Point{2, Float32}}}}\n",
       "    ├ MakieCore.Text{Tuple{Vector{Tuple{AbstractString, Point{2, Float32}}}}}\n",
       "    ├ Lines{Tuple{Vector{Point{2, Float32}}}}\n",
       "    ├ Lines{Tuple{Vector{Point{2, Float32}}}}\n",
       "    ├ MakieCore.Text{Tuple{String}}\n",
       "    ├ Combined{Makie.poly, Tuple{Vector{Vector{Point{2, Float32}}}}}\n",
       "    ├ LineSegments{Tuple{Vector{Point{2, Float32}}}}\n",
       "    ├ LineSegments{Tuple{Vector{Point{2, Float32}}}}\n",
       "    ├ LineSegments{Tuple{Vector{Point{2, Float32}}}}\n",
       "    ├ LineSegments{Tuple{Vector{Point{2, Float32}}}}\n",
       "    ├ LineSegments{Tuple{Vector{Point{2, Float32}}}}\n",
       "    ├ LineSegments{Tuple{Vector{Point{2, Float32}}}}\n",
       "    ├ MakieCore.Text{Tuple{String}}\n",
       "    ├ Lines{Tuple{Vector{Point{2, Float32}}}}\n",
       "    ├ MakieCore.Text{Tuple{Vector{Tuple{AbstractString, Point{2, Float32}}}}}\n",
       "    ├ LineSegments{Tuple{Vector{Point{2, Float32}}}}\n",
       "    ├ LineSegments{Tuple{Vector{Point{2, Float32}}}}\n",
       "    ├ MakieCore.Text{Tuple{String}}\n",
       "    ├ Lines{Tuple{Vector{Point{2, Float32}}}}\n",
       "    ├ MakieCore.Text{Tuple{Vector{Tuple{AbstractString, Point{2, Float32}}}}}\n",
       "    ├ Lines{Tuple{Vector{Point{2, Float32}}}}\n",
       "    ├ Lines{Tuple{Vector{Point{2, Float32}}}}\n",
       "    └ MakieCore.Text{Tuple{String}}\n",
       "  3 Child Scenes:\n",
       "    ├ Scene (384px, 155px)\n",
       "    ├ Scene (384px, 155px)\n",
       "    └ Scene (384px, 361px)"
      ]
     },
     "metadata": {},
     "output_type": "display_data"
    }
   ],
   "source": [
    "t = [0:dt:T...]\n",
    "fig = Figure(resolution=(900,420))\n",
    "ax1 = Axis(\n",
    "    fig[1,1]\n",
    ")\n",
    "ax3 = Axis(\n",
    "    fig[2,1],\n",
    "    # height=150\n",
    ")\n",
    "ax2 = Axis(\n",
    "    fig[:,2],\n",
    "    # yticks = [1,2]\n",
    "    # height=150\n",
    ")\n",
    "for (i,j) in enumerate(eachrow(hcat(Vs...)))\n",
    "    # lines!(ax1, t, j)\n",
    "    scatter!(ax2, t[spike(j)], [i for k in spike(j)], markersize=2.5, color=:black)\n",
    "end\n",
    "\n",
    "\n",
    "lines!(ax3, [0:dt:T...], Ies, color=:black)\n",
    "\n",
    "ylims!(ax1, -75,60)\n",
    "ylims!(ax2, 0.5,101.5)\n",
    "\n",
    "hidedecorations!(ax2, ticklabels=false, ticks=false)\n",
    "\n",
    "xlims!.([ax1,ax2,ax3], 0, T)\n",
    "\n",
    "fig"
   ]
  },
  {
   "cell_type": "code",
   "execution_count": 103,
   "metadata": {},
   "outputs": [
    {
     "ename": "UndefVarError",
     "evalue": "UndefVarError: `V` not defined",
     "output_type": "error",
     "traceback": [
      "UndefVarError: `V` not defined\n",
      "\n",
      "Stacktrace:\n",
      " [1] top-level scope\n",
      "   @ ~/Documents/code/Homework/modeling_final/Final.ipynb:1"
     ]
    }
   ],
   "source": [
    "spike = (V[1:trunc(Int64, T/dt)-1, :] .< 0) .& (V[2:trunc(Int64, T/dt), :] .> 0)\n",
    "num_spikes = sum(spike, dims=1)\n",
    "println(\"Num. of spikes : \", num_spikes[1])"
   ]
  },
  {
   "cell_type": "code",
   "execution_count": 14,
   "metadata": {},
   "outputs": [],
   "source": []
  },
  {
   "cell_type": "code",
   "execution_count": 15,
   "metadata": {},
   "outputs": [],
   "source": []
  }
 ],
 "metadata": {
  "kernelspec": {
   "display_name": "Julia 1.9.3",
   "language": "julia",
   "name": "julia-1.9"
  },
  "language_info": {
   "file_extension": ".jl",
   "mimetype": "application/julia",
   "name": "julia",
   "version": "1.9.3"
  }
 },
 "nbformat": 4,
 "nbformat_minor": 2
}
