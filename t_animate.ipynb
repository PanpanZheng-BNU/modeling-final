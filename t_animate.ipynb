{
 "cells": [
  {
   "cell_type": "code",
   "execution_count": 1,
   "metadata": {},
   "outputs": [],
   "source": [
    "using CairoMakie, LaTeXStrings\n",
    "using Makie.Colors"
   ]
  },
  {
   "cell_type": "code",
   "execution_count": 2,
   "metadata": {},
   "outputs": [],
   "source": [
    "include(\"./myfuncs.jl\")\n",
    "using .MyFuncs"
   ]
  },
  {
   "cell_type": "code",
   "execution_count": 15,
   "metadata": {},
   "outputs": [
    {
     "data": {
      "text/plain": [
       "10-element Vector{Int64}:\n",
       " 12\n",
       "  4\n",
       " 11\n",
       "  8\n",
       " 23\n",
       " 12\n",
       " 14\n",
       " 16\n",
       " 18\n",
       " 15"
      ]
     },
     "metadata": {},
     "output_type": "display_data"
    }
   ],
   "source": [
    "using Graphs\n",
    "adjacency_matrix(NWnetworks(10, 0.2)) * [1:10...]"
   ]
  },
  {
   "cell_type": "code",
   "execution_count": 14,
   "metadata": {},
   "outputs": [
    {
     "data": {
      "text/plain": [
       "10-element Vector{Vector{Int64}}:\n",
       " [2, 10]\n",
       " [1, 3]\n",
       " [2, 4, 5]\n",
       " [3, 5]\n",
       " [3, 4, 6, 10]\n",
       " [5, 7]\n",
       " [6, 8]\n",
       " [7, 9]\n",
       " [8, 10]\n",
       " [1, 5, 9]"
      ]
     },
     "metadata": {},
     "output_type": "display_data"
    }
   ],
   "source": [
    "[neighbors(NWnetworks(10, 0.2),i) for i in 1:10]"
   ]
  },
  {
   "cell_type": "code",
   "execution_count": 4,
   "metadata": {},
   "outputs": [
    {
     "data": {
      "text/plain": [
       "{10, 10} undirected simple Int64 graph"
      ]
     },
     "metadata": {},
     "output_type": "display_data"
    }
   ],
   "source": [
    "NWnetworks(10,0.01)"
   ]
  },
  {
   "cell_type": "code",
   "execution_count": null,
   "metadata": {},
   "outputs": [],
   "source": []
  },
  {
   "cell_type": "code",
   "execution_count": 7,
   "metadata": {},
   "outputs": [
    {
     "data": {
      "text/plain": [
       "HH{Float64}(Main.MyFuncs.HHPara{Float64}(1.0, 120.0, 36.0, 0.3, 50.0, -72.0, -49.0, -20.0, 20.0, 0.5, 8.0, 2.0, 0.125), 0.001, 0x03e8, [-61.77, -61.77, -61.77, -61.77, -61.77, -61.77, -61.77, -61.77, -61.77, -61.77  …  -61.77, -61.77, -61.77, -61.77, -61.77, -61.77, -61.77, -61.77, -61.77, -61.77], [0.08, 0.08, 0.08, 0.08, 0.08, 0.08, 0.08, 0.08, 0.08, 0.08  …  0.08, 0.08, 0.08, 0.08, 0.08, 0.08, 0.08, 0.08, 0.08, 0.08], [0.48, 0.48, 0.48, 0.48, 0.48, 0.48, 0.48, 0.48, 0.48, 0.48  …  0.48, 0.48, 0.48, 0.48, 0.48, 0.48, 0.48, 0.48, 0.48, 0.48], [0.36, 0.36, 0.36, 0.36, 0.36, 0.36, 0.36, 0.36, 0.36, 0.36  …  0.36, 0.36, 0.36, 0.36, 0.36, 0.36, 0.36, 0.36, 0.36, 0.36], [0.0, 0.0, 0.0, 0.0, 0.0, 0.0, 0.0, 0.0, 0.0, 0.0  …  0.0, 0.0, 0.0, 0.0, 0.0, 0.0, 0.0, 0.0, 0.0, 0.0], Graphs.SimpleGraphs.SimpleGraph{Int64}(1002, [[2, 1000], [1, 3], [2, 4], [3, 5], [4, 6], [5, 7], [6, 8], [7, 9], [8, 10], [9, 11]  …  [990, 992], [991, 993], [992, 994], [993, 995], [994, 996], [995, 997], [996, 998], [997, 999], [998, 1000], [1, 999]]), [[2, 1000], [1, 3], [2, 4], [3, 5], [4, 6], [5, 7], [6, 8], [7, 9], [8, 10], [9, 11]  …  [990, 992], [991, 993], [992, 994], [993, 995], [994, 996], [995, 997], [996, 998], [997, 999], [998, 1000], [1, 999]])"
      ]
     },
     "metadata": {},
     "output_type": "display_data"
    }
   ],
   "source": [
    "tHH = HH{Float64}(N=1000, p =0.001)"
   ]
  },
  {
   "cell_type": "code",
   "execution_count": 10,
   "metadata": {},
   "outputs": [
    {
     "data": {
      "text/plain": [
       "2-element Vector{Float64}:\n",
       " 0.0\n",
       " 0.0"
      ]
     },
     "metadata": {},
     "output_type": "display_data"
    }
   ],
   "source": [
    "tHH.r[tHH.neighbors[1]]"
   ]
  },
  {
   "cell_type": "code",
   "execution_count": 4,
   "metadata": {},
   "outputs": [
    {
     "data": {
      "text/plain": [
       "{1000, 1002} undirected simple Int64 graph"
      ]
     },
     "metadata": {},
     "output_type": "display_data"
    }
   ],
   "source": [
    "tg = NWnetworks(1000, 0.001)"
   ]
  },
  {
   "cell_type": "code",
   "execution_count": 9,
   "metadata": {},
   "outputs": [],
   "source": [
    "using Graphs"
   ]
  },
  {
   "cell_type": "code",
   "execution_count": 11,
   "metadata": {},
   "outputs": [
    {
     "data": {
      "text/plain": [
       "1000-element Vector{Vector{Int64}}:\n",
       " [2, 1000]\n",
       " [1, 3]\n",
       " [2, 4]\n",
       " [3, 5]\n",
       " [4, 6]\n",
       " [5, 7]\n",
       " [6, 8]\n",
       " [7, 9]\n",
       " [8, 10]\n",
       " [9, 11]\n",
       " ⋮\n",
       " [991, 993]\n",
       " [992, 994]\n",
       " [993, 995]\n",
       " [994, 996]\n",
       " [995, 997]\n",
       " [996, 998]\n",
       " [997, 999]\n",
       " [998, 1000]\n",
       " [1, 999]"
      ]
     },
     "metadata": {},
     "output_type": "display_data"
    }
   ],
   "source": [
    "[ neighbors(tg,i) for i in 1:1000]"
   ]
  },
  {
   "cell_type": "code",
   "execution_count": 54,
   "metadata": {},
   "outputs": [],
   "source": [
    "single_HH = HH{Float64}(N=1)\n",
    "T = 200\n",
    "dt = 0.001\n",
    "\n",
    "for j in 1:100000\n",
    "    update!(single_HH, single_HH.param, 0 * ones(1), dt)\n",
    "end\n",
    "Vs = Vector{Vector{Float64}}(undef, length([0:dt:T...]))\n",
    "# spike_times = rand([1000:10000...],100)\n",
    "for (i, Ie) in enumerate(genIexs(1,2;dt=0.001, iInterval=0.001, T=T))\n",
    "    update!(single_HH, single_HH.param, 20 .* Ie, dt)\n",
    "    Vs[i] = single_HH.v[:]\n",
    "end"
   ]
  },
  {
   "cell_type": "code",
   "execution_count": 55,
   "metadata": {},
   "outputs": [
    {
     "data": {
      "text/plain": [
       "58"
      ]
     },
     "metadata": {},
     "output_type": "display_data"
    }
   ],
   "source": [
    "sum((vcat(Vs...)[1:end-1] .<0) .& (vcat(Vs...)[2:end] .> 0))"
   ]
  },
  {
   "cell_type": "code",
   "execution_count": null,
   "metadata": {},
   "outputs": [],
   "source": [
    "[ for i in 0:0]"
   ]
  },
  {
   "cell_type": "code",
   "execution_count": 176,
   "metadata": {},
   "outputs": [
    {
     "data": {
      "text/plain": [
       "-5:1:12"
      ]
     },
     "metadata": {},
     "output_type": "display_data"
    }
   ],
   "source": [
    "nframes = 60\n",
    "framerate = 10\n",
    "Iext_iterator = -5:1:12"
   ]
  },
  {
   "cell_type": "code",
   "execution_count": 25,
   "metadata": {},
   "outputs": [
    {
     "ename": "UndefVarError",
     "evalue": "UndefVarError: `Vs` not defined",
     "output_type": "error",
     "traceback": [
      "UndefVarError: `Vs` not defined\n",
      "\n",
      "Stacktrace:\n",
      " [1] top-level scope\n",
      "   @ ~/code/modeling-final/t_animate.ipynb:3"
     ]
    }
   ],
   "source": [
    "fig = Figure()\n",
    "ax = Axis(fig[1, 1])\n",
    "lines!(ax, [0:dt:T...], vcat(Vs...); linewidth=1.5, color=:gray)\n",
    "ylims!(ax, (-100, 50))\n",
    "fig"
   ]
  },
  {
   "cell_type": "code",
   "execution_count": null,
   "metadata": {},
   "outputs": [],
   "source": [
    "NWnetworks(1000, 0.001)"
   ]
  },
  {
   "cell_type": "code",
   "execution_count": 24,
   "metadata": {},
   "outputs": [
    {
     "data": {
      "text/plain": [
       "\"t.gif\""
      ]
     },
     "metadata": {},
     "output_type": "display_data"
    }
   ],
   "source": [
    "dt = 0.001;\n",
    "T = 50;\n",
    "\n",
    "framerate = 10;\n",
    "Iext_iterator = -5:1:12;\n",
    "\n",
    "single_HH = HH{Float64}(N=1, p = 0.1)\n",
    "fig = Figure()\n",
    "ax = Axis(fig[1, 1])\n",
    "\n",
    "record(fig, \"t.gif\", Iext_iterator;\n",
    "        framerate = framerate) do iex\n",
    "    Vs = Vector{Vector{Float64}}(undef, length([0:dt:T...]))\n",
    "    for j in 1:1e5\n",
    "        update!(single_HH, single_HH.param, -5 * ones(1), dt)\n",
    "    end\n",
    "\n",
    "    for i in 1:length([0:dt:T...])\n",
    "        update!(single_HH, single_HH.param, iex * ones(1), dt)\n",
    "        Vs[i] = single_HH.v[:]\n",
    "    end\n",
    "    empty!(ax)\n",
    "    # ax.names.title=\"10\"\n",
    "    lines!(ax, [0:dt:50...], vcat(Vs...); linewidth=1.5, color=:gray)\n",
    "    lines!(ax, [0,50], zeros(2); linewidth=1, color=:black, linestyle=:dash)\n",
    "    text!(ax,latexstring(L\"I_{\\text{ex}} =\" * string(iex) * L\"\\,\\mathrm{nA}\"), position=(25, 45), align = (:center, :center))\n",
    "    ylims!(ax, (-75, 50))\n",
    "    xlims!(ax, (0,50))\n",
    "    ax.xlabel = \"Time (ms)\"\n",
    "    ax.ylabel = \"Membrane potential (mV)\"\n",
    "    hidedecorations!(ax, ticklabels=false, label=false)\n",
    "end"
   ]
  }
 ],
 "metadata": {
  "kernelspec": {
   "display_name": "Julia 1.9.3",
   "language": "julia",
   "name": "julia-1.9"
  },
  "language_info": {
   "file_extension": ".jl",
   "mimetype": "application/julia",
   "name": "julia",
   "version": "1.9.3"
  }
 },
 "nbformat": 4,
 "nbformat_minor": 2
}
